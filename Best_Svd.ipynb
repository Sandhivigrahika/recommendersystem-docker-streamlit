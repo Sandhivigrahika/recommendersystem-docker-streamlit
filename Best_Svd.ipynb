{
 "cells": [
  {
   "cell_type": "code",
   "execution_count": 5,
   "id": "6876e6aa-f947-48cf-b4e0-52b18ddea0fa",
   "metadata": {},
   "outputs": [],
   "source": [
    "import pandas as pd\n",
    "import numpy as np\n"
   ]
  },
  {
   "cell_type": "code",
   "execution_count": 6,
   "id": "d9bdc606-de8b-47c7-a031-c486acdaf91f",
   "metadata": {},
   "outputs": [],
   "source": [
    "import seaborn as sns\n",
    "import matplotlib.pyplot as plt\n",
    "\n",
    "%matplotlib inline"
   ]
  },
  {
   "cell_type": "code",
   "execution_count": 7,
   "id": "16fb4c4e-cf68-499b-8a1d-56f2bcd29386",
   "metadata": {},
   "outputs": [],
   "source": [
    "ratings = pd.read_csv('u.data', sep='\\t', names=['userId', 'movieId', 'rating', 'timestamp'])"
   ]
  },
  {
   "cell_type": "code",
   "execution_count": 8,
   "id": "f0fa6a5d-3301-43b5-b77f-058ad637ba10",
   "metadata": {},
   "outputs": [
    {
     "data": {
      "text/html": [
       "<div>\n",
       "<style scoped>\n",
       "    .dataframe tbody tr th:only-of-type {\n",
       "        vertical-align: middle;\n",
       "    }\n",
       "\n",
       "    .dataframe tbody tr th {\n",
       "        vertical-align: top;\n",
       "    }\n",
       "\n",
       "    .dataframe thead th {\n",
       "        text-align: right;\n",
       "    }\n",
       "</style>\n",
       "<table border=\"1\" class=\"dataframe\">\n",
       "  <thead>\n",
       "    <tr style=\"text-align: right;\">\n",
       "      <th></th>\n",
       "      <th>userId</th>\n",
       "      <th>movieId</th>\n",
       "      <th>rating</th>\n",
       "      <th>timestamp</th>\n",
       "    </tr>\n",
       "  </thead>\n",
       "  <tbody>\n",
       "    <tr>\n",
       "      <th>0</th>\n",
       "      <td>196</td>\n",
       "      <td>242</td>\n",
       "      <td>3</td>\n",
       "      <td>881250949</td>\n",
       "    </tr>\n",
       "    <tr>\n",
       "      <th>1</th>\n",
       "      <td>186</td>\n",
       "      <td>302</td>\n",
       "      <td>3</td>\n",
       "      <td>891717742</td>\n",
       "    </tr>\n",
       "    <tr>\n",
       "      <th>2</th>\n",
       "      <td>22</td>\n",
       "      <td>377</td>\n",
       "      <td>1</td>\n",
       "      <td>878887116</td>\n",
       "    </tr>\n",
       "    <tr>\n",
       "      <th>3</th>\n",
       "      <td>244</td>\n",
       "      <td>51</td>\n",
       "      <td>2</td>\n",
       "      <td>880606923</td>\n",
       "    </tr>\n",
       "    <tr>\n",
       "      <th>4</th>\n",
       "      <td>166</td>\n",
       "      <td>346</td>\n",
       "      <td>1</td>\n",
       "      <td>886397596</td>\n",
       "    </tr>\n",
       "  </tbody>\n",
       "</table>\n",
       "</div>"
      ],
      "text/plain": [
       "   userId  movieId  rating  timestamp\n",
       "0     196      242       3  881250949\n",
       "1     186      302       3  891717742\n",
       "2      22      377       1  878887116\n",
       "3     244       51       2  880606923\n",
       "4     166      346       1  886397596"
      ]
     },
     "execution_count": 8,
     "metadata": {},
     "output_type": "execute_result"
    }
   ],
   "source": [
    "ratings.head()"
   ]
  },
  {
   "cell_type": "code",
   "execution_count": 9,
   "id": "58c18877-a7b1-4765-a4ee-7e8bc1a77cbd",
   "metadata": {},
   "outputs": [],
   "source": [
    "movies = pd.read_csv('u.item', sep = \"|\", encoding='latin-1', usecols=[0, 1], names=['movieId', 'title'])"
   ]
  },
  {
   "cell_type": "code",
   "execution_count": 10,
   "id": "d80028a5-afe8-4054-b3b6-26ba9645a9dd",
   "metadata": {},
   "outputs": [
    {
     "data": {
      "text/html": [
       "<div>\n",
       "<style scoped>\n",
       "    .dataframe tbody tr th:only-of-type {\n",
       "        vertical-align: middle;\n",
       "    }\n",
       "\n",
       "    .dataframe tbody tr th {\n",
       "        vertical-align: top;\n",
       "    }\n",
       "\n",
       "    .dataframe thead th {\n",
       "        text-align: right;\n",
       "    }\n",
       "</style>\n",
       "<table border=\"1\" class=\"dataframe\">\n",
       "  <thead>\n",
       "    <tr style=\"text-align: right;\">\n",
       "      <th></th>\n",
       "      <th>movieId</th>\n",
       "      <th>title</th>\n",
       "    </tr>\n",
       "  </thead>\n",
       "  <tbody>\n",
       "    <tr>\n",
       "      <th>0</th>\n",
       "      <td>1</td>\n",
       "      <td>Toy Story (1995)</td>\n",
       "    </tr>\n",
       "    <tr>\n",
       "      <th>1</th>\n",
       "      <td>2</td>\n",
       "      <td>GoldenEye (1995)</td>\n",
       "    </tr>\n",
       "    <tr>\n",
       "      <th>2</th>\n",
       "      <td>3</td>\n",
       "      <td>Four Rooms (1995)</td>\n",
       "    </tr>\n",
       "    <tr>\n",
       "      <th>3</th>\n",
       "      <td>4</td>\n",
       "      <td>Get Shorty (1995)</td>\n",
       "    </tr>\n",
       "    <tr>\n",
       "      <th>4</th>\n",
       "      <td>5</td>\n",
       "      <td>Copycat (1995)</td>\n",
       "    </tr>\n",
       "  </tbody>\n",
       "</table>\n",
       "</div>"
      ],
      "text/plain": [
       "   movieId              title\n",
       "0        1   Toy Story (1995)\n",
       "1        2   GoldenEye (1995)\n",
       "2        3  Four Rooms (1995)\n",
       "3        4  Get Shorty (1995)\n",
       "4        5     Copycat (1995)"
      ]
     },
     "execution_count": 10,
     "metadata": {},
     "output_type": "execute_result"
    }
   ],
   "source": [
    "movies.head()"
   ]
  },
  {
   "cell_type": "code",
   "execution_count": 11,
   "id": "afcb1e82-a59f-4c0b-ab6b-e9c1625a7c5a",
   "metadata": {},
   "outputs": [],
   "source": [
    "df = pd.merge(ratings,movies,on=\"movieId\")"
   ]
  },
  {
   "cell_type": "code",
   "execution_count": 26,
   "id": "ce7ffce0-c11a-44dc-9f5d-00847999a6e0",
   "metadata": {},
   "outputs": [
    {
     "data": {
      "text/plain": [
       "count    943.000000\n",
       "mean     106.044539\n",
       "std      100.931743\n",
       "min       20.000000\n",
       "25%       33.000000\n",
       "50%       65.000000\n",
       "75%      148.000000\n",
       "max      737.000000\n",
       "Name: movieId, dtype: float64"
      ]
     },
     "execution_count": 26,
     "metadata": {},
     "output_type": "execute_result"
    }
   ],
   "source": [
    "df.head()\n",
    "\n",
    "df.groupby(\"userId\")[\"movieId\"].count().describe()"
   ]
  },
  {
   "cell_type": "code",
   "execution_count": 13,
   "id": "ff3f7f0a-d842-47c8-b868-99a0f86263c9",
   "metadata": {},
   "outputs": [],
   "source": [
    "from surprise import SVD, Dataset, Reader\n",
    "from surprise.model_selection import train_test_split\n",
    "from surprise import accuracy\n",
    "\n",
    "\n",
    "\n",
    "#load the dataset\n",
    "reader = Reader(rating_scale=(0.5,5.0))\n",
    "data = Dataset.load_from_df(ratings[['userId', 'movieId', 'rating']], reader)"
   ]
  },
  {
   "cell_type": "code",
   "execution_count": 15,
   "id": "861aa886-1798-466d-848d-29f4b3f5314b",
   "metadata": {},
   "outputs": [
    {
     "name": "stdout",
     "output_type": "stream",
     "text": [
      "Best RMSE: 0.9208\n",
      "Best params: {'n_factors': 150, 'n_epochs': 30, 'lr_all': 0.01, 'reg_all': 0.1}\n"
     ]
    }
   ],
   "source": [
    "from surprise import SVD, Dataset, Reader\n",
    "from surprise.model_selection import GridSearchCV\n",
    "from surprise import accuracy\n",
    "\n",
    "# Load your data\n",
    "reader = Reader(rating_scale=(0.5, 5.0))\n",
    "data = Dataset.load_from_df(ratings[['userId', 'movieId', 'rating']], reader)\n",
    "\n",
    "# Define hyperparameter grid (keep it simple!)\n",
    "param_grid = {\n",
    "    'n_factors': [50, 100, 150],\n",
    "    'n_epochs': [20, 30],\n",
    "    'lr_all': [0.002, 0.005, 0.01],\n",
    "    'reg_all': [0.02, 0.1]\n",
    "}\n",
    "\n",
    "# One line to find best parameters!\n",
    "gs = GridSearchCV(SVD, param_grid, measures=['rmse'], cv=3)\n",
    "gs.fit(data)\n",
    "\n",
    "# Get results\n",
    "print(f\"Best RMSE: {gs.best_score['rmse']:.4f}\")\n",
    "print(f\"Best params: {gs.best_params['rmse']}\")\n",
    "\n",
    "# Use the best model\n",
    "best_svd = gs.best_estimator['rmse']\n",
    "\n"
   ]
  },
  {
   "cell_type": "code",
   "execution_count": 36,
   "id": "03e94530-57d5-4261-aea7-e044c32d412e",
   "metadata": {},
   "outputs": [
    {
     "name": "stdin",
     "output_type": "stream",
     "text": [
      "Enter the user ID:  66\n"
     ]
    },
    {
     "name": "stdout",
     "output_type": "stream",
     "text": [
      "Movie 242, Predicted Rating: 3.55\n",
      "Movie 302, Predicted Rating: 4.07\n",
      "Movie 377, Predicted Rating: 2.62\n",
      "Movie 51, Predicted Rating: 3.48\n",
      "Movie 346, Predicted Rating: 3.49\n",
      "[Prediction(uid=66, iid=64, r_ui=None, est=4.406629670646146, details={'was_impossible': False}), Prediction(uid=66, iid=1449, r_ui=None, est=4.400619962188902, details={'was_impossible': False}), Prediction(uid=66, iid=174, r_ui=None, est=4.362243308453733, details={'was_impossible': False}), Prediction(uid=66, iid=172, r_ui=None, est=4.289553966045322, details={'was_impossible': False}), Prediction(uid=66, iid=12, r_ui=None, est=4.2865789704616395, details={'was_impossible': False}), Prediction(uid=66, iid=22, r_ui=None, est=4.259362799902046, details={'was_impossible': False}), Prediction(uid=66, iid=318, r_ui=None, est=4.253122182699945, details={'was_impossible': False}), Prediction(uid=66, iid=313, r_ui=None, est=4.243714394523337, details={'was_impossible': False}), Prediction(uid=66, iid=272, r_ui=None, est=4.189155749335124, details={'was_impossible': False}), Prediction(uid=66, iid=169, r_ui=None, est=4.187761676307807, details={'was_impossible': False}), Prediction(uid=66, iid=96, r_ui=None, est=4.176761552420161, details={'was_impossible': False}), Prediction(uid=66, iid=316, r_ui=None, est=4.158569540629065, details={'was_impossible': False}), Prediction(uid=66, iid=480, r_ui=None, est=4.146922200577279, details={'was_impossible': False}), Prediction(uid=66, iid=195, r_ui=None, est=4.144701087032708, details={'was_impossible': False}), Prediction(uid=66, iid=98, r_ui=None, est=4.141183554658876, details={'was_impossible': False}), Prediction(uid=66, iid=1524, r_ui=None, est=4.13796963562241, details={'was_impossible': False}), Prediction(uid=66, iid=79, r_ui=None, est=4.136196475057386, details={'was_impossible': False}), Prediction(uid=66, iid=603, r_ui=None, est=4.120092913589101, details={'was_impossible': False}), Prediction(uid=66, iid=1639, r_ui=None, est=4.115117624549008, details={'was_impossible': False}), Prediction(uid=66, iid=963, r_ui=None, est=4.113922219211835, details={'was_impossible': False}), Prediction(uid=66, iid=483, r_ui=None, est=4.107071849406565, details={'was_impossible': False}), Prediction(uid=66, iid=199, r_ui=None, est=4.09931429472145, details={'was_impossible': False}), Prediction(uid=66, iid=251, r_ui=None, est=4.093914276231135, details={'was_impossible': False}), Prediction(uid=66, iid=265, r_ui=None, est=4.0931240012211205, details={'was_impossible': False}), Prediction(uid=66, iid=520, r_ui=None, est=4.092608370065011, details={'was_impossible': False}), Prediction(uid=66, iid=114, r_ui=None, est=4.088803163803352, details={'was_impossible': False}), Prediction(uid=66, iid=302, r_ui=None, est=4.067710869587915, details={'was_impossible': False}), Prediction(uid=66, iid=144, r_ui=None, est=4.067273590327131, details={'was_impossible': False}), Prediction(uid=66, iid=187, r_ui=None, est=4.06705974510878, details={'was_impossible': False}), Prediction(uid=66, iid=1269, r_ui=None, est=4.065154646287915, details={'was_impossible': False}), Prediction(uid=66, iid=496, r_ui=None, est=4.063807902421363, details={'was_impossible': False}), Prediction(uid=66, iid=1131, r_ui=None, est=4.0625787928060015, details={'was_impossible': False}), Prediction(uid=66, iid=657, r_ui=None, est=4.060082342900261, details={'was_impossible': False}), Prediction(uid=66, iid=1019, r_ui=None, est=4.052984739608919, details={'was_impossible': False}), Prediction(uid=66, iid=176, r_ui=None, est=4.051270960009615, details={'was_impossible': False}), Prediction(uid=66, iid=173, r_ui=None, est=4.049711671902697, details={'was_impossible': False}), Prediction(uid=66, iid=210, r_ui=None, est=4.046520334889704, details={'was_impossible': False}), Prediction(uid=66, iid=178, r_ui=None, est=4.042855266196244, details={'was_impossible': False}), Prediction(uid=66, iid=651, r_ui=None, est=4.041866637586484, details={'was_impossible': False}), Prediction(uid=66, iid=408, r_ui=None, est=4.039991696376189, details={'was_impossible': False}), Prediction(uid=66, iid=513, r_ui=None, est=4.036457917117126, details={'was_impossible': False}), Prediction(uid=66, iid=701, r_ui=None, est=4.034253009226268, details={'was_impossible': False}), Prediction(uid=66, iid=1125, r_ui=None, est=4.0314828363008655, details={'was_impossible': False}), Prediction(uid=66, iid=966, r_ui=None, est=4.026156410443038, details={'was_impossible': False}), Prediction(uid=66, iid=1169, r_ui=None, est=4.02560816137744, details={'was_impossible': False}), Prediction(uid=66, iid=429, r_ui=None, est=4.022535142001699, details={'was_impossible': False}), Prediction(uid=66, iid=357, r_ui=None, est=4.022145521574483, details={'was_impossible': False}), Prediction(uid=66, iid=87, r_ui=None, est=4.0208136915629025, details={'was_impossible': False}), Prediction(uid=66, iid=183, r_ui=None, est=4.016534812490155, details={'was_impossible': False}), Prediction(uid=66, iid=1189, r_ui=None, est=4.015398348112459, details={'was_impossible': False})]\n",
      "\n",
      "Top 10 recommendations for user 66:\n",
      "\n",
      "L.A. Confidential (1997): 4.07\n",
      "Love in the Afternoon (1957): 4.07\n",
      "Silence of the Lambs, The (1991): 4.14\n",
      "Kaspar Hauser (1993): 4.14\n",
      "Bitter Sugar (Azucar Amargo) (1996): 4.12\n",
      "Rear Window (1954): 4.12\n",
      "Shall We Dance? (1996): 4.09\n",
      "Glory (1989): 4.04\n",
      "As Good As It Gets (1997): 4.16\n",
      "Bridge on the River Kwai, The (1957): 4.1\n"
     ]
    }
   ],
   "source": [
    "#using the best model parameters to predict\n",
    "import random\n",
    "\n",
    "trainset = data.build_full_trainset()\n",
    "\n",
    "#train \n",
    "best_svd.fit(trainset)\n",
    "\n",
    "user_id = input(\"Enter the user ID: \")\n",
    "user_id = int(user_id)\n",
    "\n",
    "# First, check if the user ID exists in training data\n",
    "if user_id not in trainset._raw2inner_id_users:\n",
    "    print(\"This user ID does not exist in training data.\")\n",
    "else:\n",
    "    # Convert raw user ID to internal Surprise format\n",
    "    inner_uid = trainset.to_inner_uid(user_id)\n",
    "\n",
    "    # Movies the user has already rated\n",
    "    seen_iids = set(iid for (iid, _) in trainset.ur[inner_uid])\n",
    "\n",
    "    # All movie IDs (internal)\n",
    "    all_iids = set(trainset.all_items())\n",
    "\n",
    "    # Movies the user hasn't seen\n",
    "    unseen_iids = all_iids - seen_iids\n",
    "\n",
    "    # Predict ratings only for unseen movies\n",
    "    predictions = [\n",
    "        best_svd.predict(user_id, trainset.to_raw_iid(iid)) for iid in unseen_iids\n",
    "    ]\n",
    "\n",
    "     # Debug: print sample predictions\n",
    "    for p in predictions[:5]:\n",
    "        print(f\"Movie {p.iid}, Predicted Rating: {round(p.est, 2)}\")\n",
    "\n",
    "    # Sort by predicted rating\n",
    "    top_n_predictions = sorted(predictions, key=lambda x: x.est, reverse=True)[:50]\n",
    "\n",
    "\n",
    "    top_10_sampled = random.sample(top_n_predictions,10)\n",
    "    \n",
    "\n",
    "    # Movie titles dictionary\n",
    "    movie_titles = dict(zip(movies['movieId'], movies['title']))\n",
    "\n",
    "    # Display top recommendations\n",
    "    print(f\"\\nTop 10 recommendations for user {user_id}:\\n\")\n",
    "    for prediction in top_10_sampled:\n",
    "        movie_title = movie_titles.get(int(prediction.iid), \"unknown title\")\n",
    "        print(f\"{movie_title}: {round(prediction.est, 2)}\")\n"
   ]
  },
  {
   "cell_type": "code",
   "execution_count": null,
   "id": "df4eb51c-a806-4cba-9837-79ef2529b792",
   "metadata": {},
   "outputs": [],
   "source": []
  }
 ],
 "metadata": {
  "kernelspec": {
   "display_name": "Python (recsys)",
   "language": "python",
   "name": "recsys"
  },
  "language_info": {
   "codemirror_mode": {
    "name": "ipython",
    "version": 3
   },
   "file_extension": ".py",
   "mimetype": "text/x-python",
   "name": "python",
   "nbconvert_exporter": "python",
   "pygments_lexer": "ipython3",
   "version": "3.10.13"
  }
 },
 "nbformat": 4,
 "nbformat_minor": 5
}
