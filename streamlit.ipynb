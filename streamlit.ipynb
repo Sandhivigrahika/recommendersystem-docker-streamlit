{
 "cells": [
  {
   "cell_type": "code",
   "execution_count": null,
   "id": "9f4efeeb-5dc8-42ae-821c-bb554c591246",
   "metadata": {},
   "outputs": [],
   "source": []
  }
 ],
 "metadata": {
  "kernelspec": {
   "display_name": "Python (recsys)",
   "language": "python",
   "name": "recsys"
  },
  "language_info": {
   "codemirror_mode": {
    "name": "ipython",
    "version": 3
   },
   "file_extension": ".py",
   "mimetype": "text/x-python",
   "name": "python",
   "nbconvert_exporter": "python",
   "pygments_lexer": "ipython3",
   "version": "3.10.16"
  }
 },
 "nbformat": 4,
 "nbformat_minor": 5
}
