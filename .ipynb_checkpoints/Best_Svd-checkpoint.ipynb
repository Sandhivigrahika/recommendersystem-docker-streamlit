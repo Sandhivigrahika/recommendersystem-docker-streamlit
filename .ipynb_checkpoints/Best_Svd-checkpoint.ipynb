{
 "cells": [
  {
   "cell_type": "code",
   "execution_count": 5,
   "id": "6876e6aa-f947-48cf-b4e0-52b18ddea0fa",
   "metadata": {},
   "outputs": [],
   "source": [
    "import pandas as pd\n",
    "import numpy as np\n"
   ]
  },
  {
   "cell_type": "code",
   "execution_count": 6,
   "id": "d9bdc606-de8b-47c7-a031-c486acdaf91f",
   "metadata": {},
   "outputs": [],
   "source": [
    "import seaborn as sns\n",
    "import matplotlib.pyplot as plt\n",
    "\n",
    "%matplotlib inline"
   ]
  },
  {
   "cell_type": "code",
   "execution_count": 7,
   "id": "16fb4c4e-cf68-499b-8a1d-56f2bcd29386",
   "metadata": {},
   "outputs": [],
   "source": [
    "ratings = pd.read_csv('u.data', sep='\\t', names=['userId', 'movieId', 'rating', 'timestamp'])"
   ]
  },
  {
   "cell_type": "code",
   "execution_count": 8,
   "id": "f0fa6a5d-3301-43b5-b77f-058ad637ba10",
   "metadata": {},
   "outputs": [
    {
     "data": {
      "text/html": [
       "<div>\n",
       "<style scoped>\n",
       "    .dataframe tbody tr th:only-of-type {\n",
       "        vertical-align: middle;\n",
       "    }\n",
       "\n",
       "    .dataframe tbody tr th {\n",
       "        vertical-align: top;\n",
       "    }\n",
       "\n",
       "    .dataframe thead th {\n",
       "        text-align: right;\n",
       "    }\n",
       "</style>\n",
       "<table border=\"1\" class=\"dataframe\">\n",
       "  <thead>\n",
       "    <tr style=\"text-align: right;\">\n",
       "      <th></th>\n",
       "      <th>userId</th>\n",
       "      <th>movieId</th>\n",
       "      <th>rating</th>\n",
       "      <th>timestamp</th>\n",
       "    </tr>\n",
       "  </thead>\n",
       "  <tbody>\n",
       "    <tr>\n",
       "      <th>0</th>\n",
       "      <td>196</td>\n",
       "      <td>242</td>\n",
       "      <td>3</td>\n",
       "      <td>881250949</td>\n",
       "    </tr>\n",
       "    <tr>\n",
       "      <th>1</th>\n",
       "      <td>186</td>\n",
       "      <td>302</td>\n",
       "      <td>3</td>\n",
       "      <td>891717742</td>\n",
       "    </tr>\n",
       "    <tr>\n",
       "      <th>2</th>\n",
       "      <td>22</td>\n",
       "      <td>377</td>\n",
       "      <td>1</td>\n",
       "      <td>878887116</td>\n",
       "    </tr>\n",
       "    <tr>\n",
       "      <th>3</th>\n",
       "      <td>244</td>\n",
       "      <td>51</td>\n",
       "      <td>2</td>\n",
       "      <td>880606923</td>\n",
       "    </tr>\n",
       "    <tr>\n",
       "      <th>4</th>\n",
       "      <td>166</td>\n",
       "      <td>346</td>\n",
       "      <td>1</td>\n",
       "      <td>886397596</td>\n",
       "    </tr>\n",
       "  </tbody>\n",
       "</table>\n",
       "</div>"
      ],
      "text/plain": [
       "   userId  movieId  rating  timestamp\n",
       "0     196      242       3  881250949\n",
       "1     186      302       3  891717742\n",
       "2      22      377       1  878887116\n",
       "3     244       51       2  880606923\n",
       "4     166      346       1  886397596"
      ]
     },
     "execution_count": 8,
     "metadata": {},
     "output_type": "execute_result"
    }
   ],
   "source": [
    "ratings.head()"
   ]
  },
  {
   "cell_type": "code",
   "execution_count": 9,
   "id": "58c18877-a7b1-4765-a4ee-7e8bc1a77cbd",
   "metadata": {},
   "outputs": [],
   "source": [
    "movies = pd.read_csv('u.item', sep = \"|\", encoding='latin-1', usecols=[0, 1], names=['movieId', 'title'])"
   ]
  },
  {
   "cell_type": "code",
   "execution_count": 10,
   "id": "d80028a5-afe8-4054-b3b6-26ba9645a9dd",
   "metadata": {},
   "outputs": [
    {
     "data": {
      "text/html": [
       "<div>\n",
       "<style scoped>\n",
       "    .dataframe tbody tr th:only-of-type {\n",
       "        vertical-align: middle;\n",
       "    }\n",
       "\n",
       "    .dataframe tbody tr th {\n",
       "        vertical-align: top;\n",
       "    }\n",
       "\n",
       "    .dataframe thead th {\n",
       "        text-align: right;\n",
       "    }\n",
       "</style>\n",
       "<table border=\"1\" class=\"dataframe\">\n",
       "  <thead>\n",
       "    <tr style=\"text-align: right;\">\n",
       "      <th></th>\n",
       "      <th>movieId</th>\n",
       "      <th>title</th>\n",
       "    </tr>\n",
       "  </thead>\n",
       "  <tbody>\n",
       "    <tr>\n",
       "      <th>0</th>\n",
       "      <td>1</td>\n",
       "      <td>Toy Story (1995)</td>\n",
       "    </tr>\n",
       "    <tr>\n",
       "      <th>1</th>\n",
       "      <td>2</td>\n",
       "      <td>GoldenEye (1995)</td>\n",
       "    </tr>\n",
       "    <tr>\n",
       "      <th>2</th>\n",
       "      <td>3</td>\n",
       "      <td>Four Rooms (1995)</td>\n",
       "    </tr>\n",
       "    <tr>\n",
       "      <th>3</th>\n",
       "      <td>4</td>\n",
       "      <td>Get Shorty (1995)</td>\n",
       "    </tr>\n",
       "    <tr>\n",
       "      <th>4</th>\n",
       "      <td>5</td>\n",
       "      <td>Copycat (1995)</td>\n",
       "    </tr>\n",
       "  </tbody>\n",
       "</table>\n",
       "</div>"
      ],
      "text/plain": [
       "   movieId              title\n",
       "0        1   Toy Story (1995)\n",
       "1        2   GoldenEye (1995)\n",
       "2        3  Four Rooms (1995)\n",
       "3        4  Get Shorty (1995)\n",
       "4        5     Copycat (1995)"
      ]
     },
     "execution_count": 10,
     "metadata": {},
     "output_type": "execute_result"
    }
   ],
   "source": [
    "movies.head()"
   ]
  },
  {
   "cell_type": "code",
   "execution_count": 11,
   "id": "afcb1e82-a59f-4c0b-ab6b-e9c1625a7c5a",
   "metadata": {},
   "outputs": [],
   "source": [
    "df = pd.merge(ratings,movies,on=\"movieId\")"
   ]
  },
  {
   "cell_type": "code",
   "execution_count": 26,
   "id": "ce7ffce0-c11a-44dc-9f5d-00847999a6e0",
   "metadata": {},
   "outputs": [
    {
     "data": {
      "text/plain": [
       "count    943.000000\n",
       "mean     106.044539\n",
       "std      100.931743\n",
       "min       20.000000\n",
       "25%       33.000000\n",
       "50%       65.000000\n",
       "75%      148.000000\n",
       "max      737.000000\n",
       "Name: movieId, dtype: float64"
      ]
     },
     "execution_count": 26,
     "metadata": {},
     "output_type": "execute_result"
    }
   ],
   "source": [
    "df.head()\n",
    "\n",
    "df.groupby(\"userId\")[\"movieId\"].count().describe()"
   ]
  },
  {
   "cell_type": "code",
   "execution_count": 13,
   "id": "ff3f7f0a-d842-47c8-b868-99a0f86263c9",
   "metadata": {},
   "outputs": [],
   "source": [
    "from surprise import SVD, Dataset, Reader\n",
    "from surprise.model_selection import train_test_split\n",
    "from surprise import accuracy\n",
    "\n",
    "\n",
    "\n",
    "#load the dataset\n",
    "reader = Reader(rating_scale=(0.5,5.0))\n",
    "data = Dataset.load_from_df(ratings[['userId', 'movieId', 'rating']], reader)"
   ]
  },
  {
   "cell_type": "code",
   "execution_count": 15,
   "id": "861aa886-1798-466d-848d-29f4b3f5314b",
   "metadata": {},
   "outputs": [
    {
     "name": "stdout",
     "output_type": "stream",
     "text": [
      "Best RMSE: 0.9208\n",
      "Best params: {'n_factors': 150, 'n_epochs': 30, 'lr_all': 0.01, 'reg_all': 0.1}\n"
     ]
    }
   ],
   "source": [
    "from surprise import SVD, Dataset, Reader\n",
    "from surprise.model_selection import GridSearchCV\n",
    "from surprise import accuracy\n",
    "\n",
    "# Load your data\n",
    "reader = Reader(rating_scale=(0.5, 5.0))\n",
    "data = Dataset.load_from_df(ratings[['userId', 'movieId', 'rating']], reader)\n",
    "\n",
    "# Define hyperparameter grid (keep it simple!)\n",
    "param_grid = {\n",
    "    'n_factors': [50, 100, 150],\n",
    "    'n_epochs': [20, 30],\n",
    "    'lr_all': [0.002, 0.005, 0.01],\n",
    "    'reg_all': [0.02, 0.1]\n",
    "}\n",
    "\n",
    "# One line to find best parameters!\n",
    "gs = GridSearchCV(SVD, param_grid, measures=['rmse'], cv=3)\n",
    "gs.fit(data)\n",
    "\n",
    "# Get results\n",
    "print(f\"Best RMSE: {gs.best_score['rmse']:.4f}\")\n",
    "print(f\"Best params: {gs.best_params['rmse']}\")\n",
    "\n",
    "# Use the best model\n",
    "best_svd = gs.best_estimator['rmse']\n",
    "\n"
   ]
  },
  {
   "cell_type": "code",
   "execution_count": 28,
   "id": "03e94530-57d5-4261-aea7-e044c32d412e",
   "metadata": {},
   "outputs": [
    {
     "name": "stdin",
     "output_type": "stream",
     "text": [
      "Enter the user ID:  196\n"
     ]
    },
    {
     "name": "stdout",
     "output_type": "stream",
     "text": [
      "Movie 302, Predicted Rating: 3.93\n",
      "Movie 377, Predicted Rating: 2.66\n",
      "Movie 51, Predicted Rating: 3.43\n",
      "Movie 346, Predicted Rating: 3.54\n",
      "Movie 474, Predicted Rating: 4.07\n",
      "\n",
      "Top 10 recommendations for user 196:\n",
      "\n",
      "Shawshank Redemption, The (1994): 4.53\n",
      "Sweet Hereafter, The (1997): 4.15\n",
      "Manchurian Candidate, The (1962): 4.26\n",
      "Apostle, The (1997): 4.2\n",
      "A Chef in Love (1996): 4.19\n",
      "North by Northwest (1959): 4.36\n",
      "One Flew Over the Cuckoo's Nest (1975): 4.27\n",
      "Usual Suspects, The (1995): 4.21\n",
      "Vertigo (1958): 4.16\n",
      "To Kill a Mockingbird (1962): 4.31\n"
     ]
    }
   ],
   "source": [
    "#using the best model parameters to predict\n",
    "import random\n",
    "\n",
    "trainset = data.build_full_trainset()\n",
    "\n",
    "#train \n",
    "best_svd.fit(trainset)\n",
    "\n",
    "user_id = input(\"Enter the user ID: \")\n",
    "user_id = int(user_id)\n",
    "\n",
    "# First, check if the user ID exists in training data\n",
    "if user_id not in trainset._raw2inner_id_users:\n",
    "    print(\"This user ID does not exist in training data.\")\n",
    "else:\n",
    "    # Convert raw user ID to internal Surprise format\n",
    "    inner_uid = trainset.to_inner_uid(user_id)\n",
    "\n",
    "    # Movies the user has already rated\n",
    "    seen_iids = set(iid for (iid, _) in trainset.ur[inner_uid])\n",
    "\n",
    "    # All movie IDs (internal)\n",
    "    all_iids = set(trainset.all_items())\n",
    "\n",
    "    # Movies the user hasn't seen\n",
    "    unseen_iids = all_iids - seen_iids\n",
    "\n",
    "    # Predict ratings only for unseen movies\n",
    "    predictions = [\n",
    "        best_svd.predict(user_id, trainset.to_raw_iid(iid)) for iid in unseen_iids\n",
    "    ]\n",
    "\n",
    "     # Debug: print sample predictions\n",
    "    for p in predictions[:5]:\n",
    "        print(f\"Movie {p.iid}, Predicted Rating: {round(p.est, 2)}\")\n",
    "\n",
    "    # Sort by predicted rating\n",
    "    top_n_predictions = sorted(predictions, key=lambda x: x.est, reverse=True)[:50]\n",
    "\n",
    "    top_10_sampled = random.sample(top_n_predictions,10)\n",
    "    \n",
    "\n",
    "    # Movie titles dictionary\n",
    "    movie_titles = dict(zip(movies['movieId'], movies['title']))\n",
    "\n",
    "    # Display top recommendations\n",
    "    print(f\"\\nTop 10 recommendations for user {user_id}:\\n\")\n",
    "    for prediction in top_10_sampled:\n",
    "        movie_title = movie_titles.get(int(prediction.iid), \"unknown title\")\n",
    "        print(f\"{movie_title}: {round(prediction.est, 2)}\")\n"
   ]
  },
  {
   "cell_type": "code",
   "execution_count": null,
   "id": "8e7d938e-473d-4d33-bbcb-12077256187b",
   "metadata": {},
   "outputs": [],
   "source": []
  }
 ],
 "metadata": {
  "kernelspec": {
   "display_name": "Python (recsys)",
   "language": "python",
   "name": "recsys"
  },
  "language_info": {
   "codemirror_mode": {
    "name": "ipython",
    "version": 3
   },
   "file_extension": ".py",
   "mimetype": "text/x-python",
   "name": "python",
   "nbconvert_exporter": "python",
   "pygments_lexer": "ipython3",
   "version": "3.10.13"
  }
 },
 "nbformat": 4,
 "nbformat_minor": 5
}
